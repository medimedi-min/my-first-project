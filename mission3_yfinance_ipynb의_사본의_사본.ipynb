{
  "nbformat": 4,
  "nbformat_minor": 0,
  "metadata": {
    "colab": {
      "provenance": [],
      "authorship_tag": "ABX9TyOSzaPo9a1S2MXCbLpVRpJD",
      "include_colab_link": true
    },
    "kernelspec": {
      "name": "python3",
      "display_name": "Python 3"
    },
    "language_info": {
      "name": "python"
    }
  },
  "cells": [
    {
      "cell_type": "markdown",
      "metadata": {
        "id": "view-in-github",
        "colab_type": "text"
      },
      "source": [
        "<a href=\"https://colab.research.google.com/github/medimedi-min/my-first-project/blob/main/mission3_yfinance_ipynb%EC%9D%98_%EC%82%AC%EB%B3%B8%EC%9D%98_%EC%82%AC%EB%B3%B8.ipynb\" target=\"_parent\"><img src=\"https://colab.research.google.com/assets/colab-badge.svg\" alt=\"Open In Colab\"/></a>"
      ]
    },
    {
      "cell_type": "code",
      "execution_count": null,
      "metadata": {
        "colab": {
          "base_uri": "https://localhost:8080/"
        },
        "id": "151pQEpjHvGq",
        "outputId": "5b599697-62be-408c-cc6f-35a0f017c760"
      },
      "outputs": [
        {
          "output_type": "stream",
          "name": "stdout",
          "text": [
            "Requirement already satisfied: yfinance in /usr/local/lib/python3.12/dist-packages (0.2.66)\n",
            "Requirement already satisfied: pandas>=1.3.0 in /usr/local/lib/python3.12/dist-packages (from yfinance) (2.2.2)\n",
            "Requirement already satisfied: numpy>=1.16.5 in /usr/local/lib/python3.12/dist-packages (from yfinance) (2.0.2)\n",
            "Requirement already satisfied: requests>=2.31 in /usr/local/lib/python3.12/dist-packages (from yfinance) (2.32.4)\n",
            "Requirement already satisfied: multitasking>=0.0.7 in /usr/local/lib/python3.12/dist-packages (from yfinance) (0.0.12)\n",
            "Requirement already satisfied: platformdirs>=2.0.0 in /usr/local/lib/python3.12/dist-packages (from yfinance) (4.5.0)\n",
            "Requirement already satisfied: pytz>=2022.5 in /usr/local/lib/python3.12/dist-packages (from yfinance) (2025.2)\n",
            "Requirement already satisfied: frozendict>=2.3.4 in /usr/local/lib/python3.12/dist-packages (from yfinance) (2.4.6)\n",
            "Requirement already satisfied: peewee>=3.16.2 in /usr/local/lib/python3.12/dist-packages (from yfinance) (3.18.2)\n",
            "Requirement already satisfied: beautifulsoup4>=4.11.1 in /usr/local/lib/python3.12/dist-packages (from yfinance) (4.13.5)\n",
            "Requirement already satisfied: curl_cffi>=0.7 in /usr/local/lib/python3.12/dist-packages (from yfinance) (0.13.0)\n",
            "Requirement already satisfied: protobuf>=3.19.0 in /usr/local/lib/python3.12/dist-packages (from yfinance) (5.29.5)\n",
            "Requirement already satisfied: websockets>=13.0 in /usr/local/lib/python3.12/dist-packages (from yfinance) (15.0.1)\n",
            "Requirement already satisfied: soupsieve>1.2 in /usr/local/lib/python3.12/dist-packages (from beautifulsoup4>=4.11.1->yfinance) (2.8)\n",
            "Requirement already satisfied: typing-extensions>=4.0.0 in /usr/local/lib/python3.12/dist-packages (from beautifulsoup4>=4.11.1->yfinance) (4.15.0)\n",
            "Requirement already satisfied: cffi>=1.12.0 in /usr/local/lib/python3.12/dist-packages (from curl_cffi>=0.7->yfinance) (2.0.0)\n",
            "Requirement already satisfied: certifi>=2024.2.2 in /usr/local/lib/python3.12/dist-packages (from curl_cffi>=0.7->yfinance) (2025.10.5)\n",
            "Requirement already satisfied: python-dateutil>=2.8.2 in /usr/local/lib/python3.12/dist-packages (from pandas>=1.3.0->yfinance) (2.9.0.post0)\n",
            "Requirement already satisfied: tzdata>=2022.7 in /usr/local/lib/python3.12/dist-packages (from pandas>=1.3.0->yfinance) (2025.2)\n",
            "Requirement already satisfied: charset_normalizer<4,>=2 in /usr/local/lib/python3.12/dist-packages (from requests>=2.31->yfinance) (3.4.4)\n",
            "Requirement already satisfied: idna<4,>=2.5 in /usr/local/lib/python3.12/dist-packages (from requests>=2.31->yfinance) (3.11)\n",
            "Requirement already satisfied: urllib3<3,>=1.21.1 in /usr/local/lib/python3.12/dist-packages (from requests>=2.31->yfinance) (2.5.0)\n",
            "Requirement already satisfied: pycparser in /usr/local/lib/python3.12/dist-packages (from cffi>=1.12.0->curl_cffi>=0.7->yfinance) (2.23)\n",
            "Requirement already satisfied: six>=1.5 in /usr/local/lib/python3.12/dist-packages (from python-dateutil>=2.8.2->pandas>=1.3.0->yfinance) (1.17.0)\n",
            "Palantir (PLTR) 1 Year Stock Data:\n",
            "                                Open       High        Low      Close  \\\n",
            "Date                                                                    \n",
            "2024-10-24 00:00:00-04:00  42.889999  43.730000  42.660000  43.560001   \n",
            "2024-10-25 00:00:00-04:00  43.849998  45.070000  43.645000  44.860001   \n",
            "2024-10-28 00:00:00-04:00  45.049999  45.139999  44.680000  44.970001   \n",
            "2024-10-29 00:00:00-04:00  44.900002  45.070000  44.040001  44.930000   \n",
            "2024-10-30 00:00:00-04:00  44.580002  44.799999  43.610001  43.689999   \n",
            "\n",
            "                             Volume  Dividends  Stock Splits  \n",
            "Date                                                          \n",
            "2024-10-24 00:00:00-04:00  34079600        0.0           0.0  \n",
            "2024-10-25 00:00:00-04:00  50416500        0.0           0.0  \n",
            "2024-10-28 00:00:00-04:00  36729700        0.0           0.0  \n",
            "2024-10-29 00:00:00-04:00  26154700        0.0           0.0  \n",
            "2024-10-30 00:00:00-04:00  31309200        0.0           0.0  \n",
            "Palantir (PLTR) Most Recent 5 Days Data:\n",
            "                                 Open        High         Low       Close  \\\n",
            "Date                                                                        \n",
            "2025-10-17 00:00:00-04:00  177.750000  181.589996  173.949997  178.149994   \n",
            "2025-10-20 00:00:00-04:00  179.490005  183.089996  177.440002  181.589996   \n",
            "2025-10-21 00:00:00-04:00  182.059998  182.389008  178.649994  181.509995   \n",
            "2025-10-22 00:00:00-04:00  181.929993  182.210007  169.419998  175.490005   \n",
            "2025-10-23 00:00:00-04:00  175.445007  181.559998  175.009995  180.479996   \n",
            "\n",
            "                             Volume  Dividends  Stock Splits  \n",
            "Date                                                          \n",
            "2025-10-17 00:00:00-04:00  43421500        0.0           0.0  \n",
            "2025-10-20 00:00:00-04:00  31975800        0.0           0.0  \n",
            "2025-10-21 00:00:00-04:00  27528100        0.0           0.0  \n",
            "2025-10-22 00:00:00-04:00  58263100        0.0           0.0  \n",
            "2025-10-23 00:00:00-04:00  35746000        0.0           0.0  \n"
          ]
        }
      ],
      "source": [
        "!pip install yfinance\n",
        "import yfinance as yf\n",
        "import pandas as pd\n",
        "\n",
        "# 당신의 관심 종목 'PLTR'(Palantir)의 주식 데이터를 불러옵니다.\n",
        "ticker = yf.Ticker(\"PLTR\")\n",
        "\n",
        "# 'history' 명령어로 1년치(1y) 데이터를 '데이터프레임'으로 가져옵니다.\n",
        "df_pltr = ticker.history(period=\"1y\")\n",
        "\n",
        "# 불러온 '진짜' 데이터의 앞 5줄만 확인합니다.\n",
        "print(\"Palantir (PLTR) 1 Year Stock Data:\")\n",
        "print(df_pltr.head())\n",
        "\n",
        "# '1년치' 데이터의 '맨 뒤 5줄(최신 부분)'을 보여줍니다.\n",
        "print(\"Palantir (PLTR) Most Recent 5 Days Data:\")\n",
        "print(df_pltr.tail())\n"
      ]
    },
    {
      "cell_type": "markdown",
      "source": [],
      "metadata": {
        "id": "-gqkcjv3KDBS"
      }
    }
  ]
}